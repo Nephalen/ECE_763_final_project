{
 "cells": [
  {
   "cell_type": "markdown",
   "metadata": {},
   "source": [
    "# ECE 763 Project 2 Haar Feature"
   ]
  },
  {
   "cell_type": "code",
   "execution_count": 1,
   "metadata": {},
   "outputs": [],
   "source": [
    "import numpy as np\n",
    "import pandas as pd\n",
    "import cv2\n",
    "import matplotlib.pyplot as plt\n",
    "import dask.dataframe as dd\n",
    "import os\n",
    "import glob\n",
    "\n",
    "from skimage.transform import integral_image\n",
    "from skimage.color import rgb2grey\n",
    "from skimage.feature import haar_like_feature\n",
    "from skimage.feature import haar_like_feature_coord\n",
    "from skimage.feature import draw_haar_like_feature\n",
    "\n",
    "from feature_utility import batch_haar_feature_compute, img_preprocess, store_large_data"
   ]
  },
  {
   "cell_type": "code",
   "execution_count": 2,
   "metadata": {},
   "outputs": [],
   "source": [
    "#load reference data\n",
    "face_path = 'Data\\\\Face16\\\\'\n",
    "face_data = np.array([cv2.imread(filename) for filename in glob.glob(os.path.join(face_path, '*.bmp'))])\n",
    "\n",
    "nface_path = 'Data\\\\Nonface16\\\\'\n",
    "nface_data = np.array([cv2.imread(filename) for filename in glob.glob(os.path.join(nface_path, '*.bmp'))])\n",
    "\n",
    "face_data = face_data[:, :, :, 0]\n",
    "nface_data = nface_data[:, :, :, 0]        "
   ]
  },
  {
   "cell_type": "code",
   "execution_count": 3,
   "metadata": {},
   "outputs": [],
   "source": [
    "split = np.min([len(face_data), len(nface_data)]) // 10 * 7"
   ]
  },
  {
   "cell_type": "code",
   "execution_count": 4,
   "metadata": {},
   "outputs": [],
   "source": [
    "train_face = face_data[:split]\n",
    "train_nface = nface_data[:split]\n",
    "\n",
    "test_face = face_data[split:]\n",
    "test_nface = nface_data[split:]"
   ]
  },
  {
   "cell_type": "code",
   "execution_count": 5,
   "metadata": {},
   "outputs": [],
   "source": [
    "store_large_data(batch_haar_feature_compute(train_face, return_coord=False), \"Data/ref_face_train_haar.csv\", key='face_train', npartitions = 10)\n",
    "store_large_data(batch_haar_feature_compute(train_nface, return_coord=False), \"Data/ref_nface_train_haar.csv\", key='nface_train', npartitions = 10)\n",
    "store_large_data(batch_haar_feature_compute(test_face, return_coord=False), \"Data/ref_face_test_haar.csv\", key='face_test', npartitions = 10)\n",
    "store_large_data(batch_haar_feature_compute(test_nface, return_coord=False), \"Data/ref_nface_test_haar.csv\", key='nface_test', npartitions = 10)"
   ]
  },
  {
   "cell_type": "code",
   "execution_count": null,
   "metadata": {},
   "outputs": [],
   "source": []
  },
  {
   "cell_type": "code",
   "execution_count": null,
   "metadata": {},
   "outputs": [],
   "source": []
  },
  {
   "cell_type": "code",
   "execution_count": null,
   "metadata": {},
   "outputs": [],
   "source": []
  },
  {
   "cell_type": "code",
   "execution_count": null,
   "metadata": {},
   "outputs": [],
   "source": []
  },
  {
   "cell_type": "code",
   "execution_count": null,
   "metadata": {},
   "outputs": [],
   "source": []
  },
  {
   "cell_type": "code",
   "execution_count": null,
   "metadata": {},
   "outputs": [],
   "source": []
  }
 ],
 "metadata": {
  "kernelspec": {
   "display_name": "Python 3",
   "language": "python",
   "name": "python3"
  },
  "language_info": {
   "codemirror_mode": {
    "name": "ipython",
    "version": 3
   },
   "file_extension": ".py",
   "mimetype": "text/x-python",
   "name": "python",
   "nbconvert_exporter": "python",
   "pygments_lexer": "ipython3",
   "version": "3.7.3"
  }
 },
 "nbformat": 4,
 "nbformat_minor": 4
}
