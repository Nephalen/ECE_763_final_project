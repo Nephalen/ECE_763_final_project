{
 "cells": [
  {
   "cell_type": "markdown",
   "metadata": {},
   "source": [
    "### Model Training and Cross Validation"
   ]
  },
  {
   "cell_type": "code",
   "execution_count": 1,
   "metadata": {},
   "outputs": [],
   "source": [
    "#load library\n",
    "import numpy as np\n",
    "import torch\n",
    "import torch.nn as nn\n",
    "import torch.optim as optim\n",
    "import torchvision\n",
    "import torchvision.transforms as transforms\n",
    "import pickle\n",
    "\n",
    "import matplotlib.pyplot as plt\n",
    "\n",
    "from torch.utils.data import DataLoader, Subset\n",
    "#load models and other customized component\n",
    "from models.base_model import BaseModel, MagicModel1\n",
    "from utils.model_util import fit, predict, hyp_random_search\n",
    "from utils.loss_functions import ProbCatCrossEntropyLoss\n",
    "from utils.performance import categorical_accuracy"
   ]
  },
  {
   "cell_type": "code",
   "execution_count": 2,
   "metadata": {},
   "outputs": [
    {
     "name": "stdout",
     "output_type": "stream",
     "text": [
      "Files already downloaded and verified\n",
      "Files already downloaded and verified\n"
     ]
    }
   ],
   "source": [
    "#load data\n",
    "#data format: (_, 3, 32, 32)\n",
    "transform = transforms.Compose(\n",
    "    [transforms.ToTensor(),\n",
    "     transforms.Normalize((0.5, 0.5, 0.5), (0.5, 0.5, 0.5))])\n",
    "\n",
    "#get data\n",
    "trainset = torchvision.datasets.CIFAR10(root='./data', train=True,\n",
    "                                        download=True, transform=transform)\n",
    "testset = torchvision.datasets.CIFAR10(root='./data', train=False,\n",
    "                                       download=True, transform=transform)\n",
    "\n",
    "#split validation set from training set\n",
    "smallset = Subset(trainset, np.arange(200))\n",
    "\n",
    "train_length = len(trainset)\n",
    "train_index = np.arange(int(train_length*0.8))\n",
    "valid_index = np.arange(int(train_length*0.8), train_length)\n",
    "\n",
    "validset = Subset(trainset, valid_index)\n",
    "trainset = Subset(trainset, train_index)\n",
    "\n",
    "smallloader = DataLoader(smallset, batch_size = 4, shuffle=False, num_workers=4, pin_memory =True)\n",
    "trainloader = DataLoader(trainset, batch_size=250, shuffle=True, num_workers=4, pin_memory =True)\n",
    "validloader = DataLoader(validset, batch_size=250, shuffle=False, num_workers=4, pin_memory =True)\n",
    "testloader = DataLoader(testset, batch_size=250, shuffle=False, num_workers=4)\n",
    "\n",
    "classes = ('plane', 'car', 'bird', 'cat', 'deer', 'dog', 'frog', 'horse', 'ship', 'truck')"
   ]
  },
  {
   "cell_type": "markdown",
   "metadata": {},
   "source": [
    "hyp_search_param = {'lr_low': -6, 'lr_high': -3, \n",
    "                    'reg_low': -5, 'reg_high': 0,\n",
    "                    'lr_step_low': 1, 'lr_step_high': 50,\n",
    "                    'lr_gamma_low': -2, 'lr_gamma_high': 0}\n",
    "result = hyp_random_search(MagicModel1, trainloader, validloader, loss_function, epochs = 50, max_count = 60, param=hyp_search_param)"
   ]
  },
  {
   "cell_type": "markdown",
   "metadata": {},
   "source": [
    "#save hyperparameter search result\n",
    "with open('hyper1.pickle', 'wb') as handle:\n",
    "    pickle.dump(result, handle, protocol=pickle.HIGHEST_PROTOCOL)"
   ]
  },
  {
   "cell_type": "code",
   "execution_count": 3,
   "metadata": {},
   "outputs": [],
   "source": [
    "#load hyperparameter search result\n",
    "with open('hyper1.pickle', 'rb') as handle:\n",
    "    result = pickle.load(handle)"
   ]
  },
  {
   "cell_type": "code",
   "execution_count": 4,
   "metadata": {},
   "outputs": [
    {
     "name": "stdout",
     "output_type": "stream",
     "text": [
      "0 - val_acc: 0.7751000368152745, lr: 0.0001870958988208472, reg: 0.0011999674755967396, steps: 43.0, gamma: 0.07829314721109162\n",
      "1 - val_acc: 0.7747000367962755, lr: 0.00014017118170786528, reg: 1.686140121257603e-05, steps: 34.0, gamma: 0.10306160920150186\n",
      "2 - val_acc: 0.7722000366775319, lr: 0.0001341174320613411, reg: 0.0001474154699057607, steps: 38.0, gamma: 0.014396985968001763\n",
      "3 - val_acc: 0.7497000356088392, lr: 3.4303585106964615e-05, reg: 0.0006977337511121456, steps: 21.0, gamma: 0.8944505364121259\n",
      "4 - val_acc: 0.7705000365967862, lr: 6.802994294189812e-05, reg: 0.0024995605211921247, steps: 23.0, gamma: 0.01083568908118864\n",
      "5 - val_acc: 0.7493000355898403, lr: 4.343649952067692e-05, reg: 6.717993909671879e-05, steps: 18.0, gamma: 0.012095104321666767\n",
      "6 - val_acc: 0.7590000360505655, lr: 0.0002940760588961017, reg: 0.0051610332836317975, steps: 35.0, gamma: 0.8561671024962839\n",
      "7 - val_acc: 0.7683000364922918, lr: 0.00010397273528599999, reg: 2.6564375838058756e-05, steps: 13.0, gamma: 0.022319369265557998\n",
      "8 - val_acc: 0.763900036283303, lr: 0.000749559765861917, reg: 8.114136396585245e-05, steps: 39.0, gamma: 0.015208543769396104\n",
      "9 - val_acc: 0.7768000368960202, lr: 0.00014270476983299513, reg: 0.005488660275794192, steps: 47.0, gamma: 0.024602848476209565\n",
      "10 - val_acc: 0.7733000367297791, lr: 0.0001895749361863395, reg: 1.64972170397767e-05, steps: 5.0, gamma: 0.06524526944953266\n",
      "11 - val_acc: 0.7529000357608311, lr: 0.0007299296350243092, reg: 0.0029948816087141806, steps: 44.0, gamma: 0.7545122451134154\n",
      "12 - val_acc: 0.7686000365065411, lr: 6.746240209870068e-05, reg: 0.0014201413594279232, steps: 48.0, gamma: 0.016572603130797125\n",
      "13 - val_acc: 0.776100036862772, lr: 0.00011452191602674447, reg: 0.0002646031867713716, steps: 26.0, gamma: 0.030611228842793006\n",
      "14 - val_acc: 0.776100036862772, lr: 0.00020468423245178762, reg: 6.038360875609636e-05, steps: 25.0, gamma: 0.06630645051108598\n",
      "15 - val_acc: 0.7565000359318219, lr: 0.0005465319766762126, reg: 0.03022527150889816, steps: 24.0, gamma: 0.09035013299406805\n",
      "16 - val_acc: 0.7628000362310559, lr: 0.0001553983093319071, reg: 0.012464255989518625, steps: 48.0, gamma: 0.8356991358918261\n",
      "17 - val_acc: 0.7518000357085839, lr: 4.977707127217288e-05, reg: 5.888515316652843e-05, steps: 8.0, gamma: 0.16436670290126587\n",
      "18 - val_acc: 0.7767000368912704, lr: 0.000557659947349318, reg: 0.0003170399006662958, steps: 13.0, gamma: 0.012239826689084455\n",
      "19 - val_acc: 0.7705000365967862, lr: 0.000487089178001222, reg: 6.137520059830022e-05, steps: 36.0, gamma: 0.03679186047748997\n"
     ]
    }
   ],
   "source": [
    "#show top 20 hyperparameter search result\n",
    "for i, item in enumerate(zip(*result.values())):\n",
    "    print(\"{} - val_acc: {}, lr: {}, reg: {}, steps: {}, gamma: {}\".format(i, *item))"
   ]
  },
  {
   "cell_type": "code",
   "execution_count": 5,
   "metadata": {},
   "outputs": [],
   "source": [
    "#initialize model, optimizer, etc\n",
    "model = MagicModel1((3, 32, 32), 10)\n",
    "loss_function = ProbCatCrossEntropyLoss()\n",
    "optimizer = optim.Adam(model.parameters(), lr=15e-5, weight_decay=1e-3) #, momentum=0.9\n",
    "lr_scheduler = optim.lr_scheduler.StepLR(optimizer, 20, gamma=0.1)"
   ]
  },
  {
   "cell_type": "code",
   "execution_count": 6,
   "metadata": {},
   "outputs": [
    {
     "name": "stdout",
     "output_type": "stream",
     "text": [
      "Epoch 0:   1% 1/160 [00:00<01:54,  1.39it/s, training_loss=2.29, train_accuracy=0.132]"
     ]
    },
    {
     "name": "stderr",
     "output_type": "stream",
     "text": [
      "/home/jwang75/tmp/workspace/models/base_model.py:73: UserWarning: Implicit dimension choice for softmax has been deprecated. Change the call to include dim=X as an argument.\n",
      "  x = F.softmax(self.fc3(x))\n"
     ]
    },
    {
     "name": "stdout",
     "output_type": "stream",
     "text": [
      "Epoch 0: 100% 160/160 [00:29<00:00,  5.47it/s, training_loss=1.35, train_accuracy=0.513, val_loss=1.15, val_accuracy=0.598]\n",
      "Epoch 1: 100% 160/160 [00:29<00:00,  5.49it/s, training_loss=0.957, train_accuracy=0.662, val_loss=0.938, val_accuracy=0.669]\n",
      "Epoch 2: 100% 160/160 [00:29<00:00,  5.49it/s, training_loss=0.811, train_accuracy=0.718, val_loss=0.832, val_accuracy=0.711]\n",
      "Epoch 3: 100% 160/160 [00:29<00:00,  5.45it/s, training_loss=0.717, train_accuracy=0.75, val_loss=0.833, val_accuracy=0.712]\n",
      "Epoch 4: 100% 160/160 [00:29<00:00,  5.48it/s, training_loss=0.634, train_accuracy=0.779, val_loss=0.835, val_accuracy=0.711]\n",
      "Epoch 5: 100% 160/160 [00:29<00:00,  5.44it/s, training_loss=0.567, train_accuracy=0.804, val_loss=0.782, val_accuracy=0.726]\n",
      "Epoch 6: 100% 160/160 [00:29<00:00,  5.44it/s, training_loss=0.495, train_accuracy=0.828, val_loss=0.759, val_accuracy=0.74]\n",
      "Epoch 7: 100% 160/160 [00:29<00:00,  5.43it/s, training_loss=0.436, train_accuracy=0.85, val_loss=0.74, val_accuracy=0.749]\n",
      "Epoch 8: 100% 160/160 [00:29<00:00,  5.42it/s, training_loss=0.377, train_accuracy=0.873, val_loss=0.78, val_accuracy=0.74]\n",
      "Epoch 9: 100% 160/160 [00:29<00:00,  5.42it/s, training_loss=0.327, train_accuracy=0.891, val_loss=0.758, val_accuracy=0.751]\n",
      "Epoch 10: 100% 160/160 [00:29<00:00,  5.42it/s, training_loss=0.294, train_accuracy=0.902, val_loss=0.817, val_accuracy=0.744]\n",
      "Epoch 11: 100% 160/160 [00:29<00:00,  5.42it/s, training_loss=0.239, train_accuracy=0.922, val_loss=0.816, val_accuracy=0.747]\n",
      "Epoch 12: 100% 160/160 [00:29<00:00,  5.39it/s, training_loss=0.195, train_accuracy=0.939, val_loss=0.835, val_accuracy=0.749]\n",
      "Epoch 13: 100% 160/160 [00:29<00:00,  5.41it/s, training_loss=0.169, train_accuracy=0.949, val_loss=0.86, val_accuracy=0.745]\n",
      "Epoch 14: 100% 160/160 [00:29<00:00,  5.41it/s, training_loss=0.142, train_accuracy=0.958, val_loss=0.882, val_accuracy=0.746]\n",
      "Epoch 15: 100% 160/160 [00:29<00:00,  5.41it/s, training_loss=0.127, train_accuracy=0.962, val_loss=0.916, val_accuracy=0.746]\n",
      "Epoch 16: 100% 160/160 [00:29<00:00,  5.40it/s, training_loss=0.101, train_accuracy=0.972, val_loss=0.935, val_accuracy=0.749]\n",
      "Epoch 17: 100% 160/160 [00:29<00:00,  5.42it/s, training_loss=0.0813, train_accuracy=0.979, val_loss=0.867, val_accuracy=0.764]\n",
      "Epoch 18: 100% 160/160 [00:29<00:00,  5.40it/s, training_loss=0.0754, train_accuracy=0.981, val_loss=0.952, val_accuracy=0.749]\n",
      "Epoch 19: 100% 160/160 [00:29<00:00,  5.40it/s, training_loss=0.087, train_accuracy=0.976, val_loss=0.974, val_accuracy=0.749]\n",
      "Epoch 20: 100% 160/160 [00:29<00:00,  5.40it/s, training_loss=0.034, train_accuracy=0.996, val_loss=0.836, val_accuracy=0.776]\n",
      "Epoch 21: 100% 160/160 [00:29<00:00,  5.39it/s, training_loss=0.0199, train_accuracy=0.999, val_loss=0.84, val_accuracy=0.776]\n",
      "Epoch 22: 100% 160/160 [00:29<00:00,  5.40it/s, training_loss=0.0171, train_accuracy=1, val_loss=0.846, val_accuracy=0.777]\n",
      "Epoch 23: 100% 160/160 [00:29<00:00,  5.40it/s, training_loss=0.0152, train_accuracy=1, val_loss=0.845, val_accuracy=0.778]\n",
      "Epoch 24: 100% 160/160 [00:29<00:00,  5.40it/s, training_loss=0.0143, train_accuracy=1, val_loss=0.848, val_accuracy=0.778]\n",
      "Epoch 25: 100% 160/160 [00:29<00:00,  5.41it/s, training_loss=0.0135, train_accuracy=1, val_loss=0.849, val_accuracy=0.778]\n",
      "Epoch 26: 100% 160/160 [00:29<00:00,  5.43it/s, training_loss=0.0129, train_accuracy=1, val_loss=0.849, val_accuracy=0.778]\n",
      "Epoch 27: 100% 160/160 [00:29<00:00,  5.41it/s, training_loss=0.0124, train_accuracy=1, val_loss=0.851, val_accuracy=0.779]\n",
      "Epoch 28: 100% 160/160 [00:29<00:00,  5.41it/s, training_loss=0.0121, train_accuracy=1, val_loss=0.85, val_accuracy=0.778]\n",
      "Epoch 29: 100% 160/160 [00:29<00:00,  5.42it/s, training_loss=0.0118, train_accuracy=1, val_loss=0.851, val_accuracy=0.779]\n",
      "Epoch 30: 100% 160/160 [00:29<00:00,  5.41it/s, training_loss=0.0116, train_accuracy=1, val_loss=0.852, val_accuracy=0.78]\n",
      "Epoch 31: 100% 160/160 [00:29<00:00,  5.41it/s, training_loss=0.0113, train_accuracy=1, val_loss=0.852, val_accuracy=0.781]\n",
      "Epoch 32: 100% 160/160 [00:29<00:00,  5.41it/s, training_loss=0.0111, train_accuracy=1, val_loss=0.849, val_accuracy=0.782]\n",
      "Epoch 33: 100% 160/160 [00:29<00:00,  5.42it/s, training_loss=0.011, train_accuracy=1, val_loss=0.848, val_accuracy=0.779]\n",
      "Epoch 34: 100% 160/160 [00:29<00:00,  5.41it/s, training_loss=0.0111, train_accuracy=1, val_loss=0.845, val_accuracy=0.781]\n",
      "Epoch 35: 100% 160/160 [00:29<00:00,  5.40it/s, training_loss=0.011, train_accuracy=1, val_loss=0.844, val_accuracy=0.78]\n",
      "Epoch 36: 100% 160/160 [00:29<00:00,  5.40it/s, training_loss=0.011, train_accuracy=1, val_loss=0.845, val_accuracy=0.779]\n",
      "Epoch 37: 100% 160/160 [00:29<00:00,  5.41it/s, training_loss=0.011, train_accuracy=1, val_loss=0.849, val_accuracy=0.782]\n",
      "Epoch 38: 100% 160/160 [00:29<00:00,  5.41it/s, training_loss=0.011, train_accuracy=1, val_loss=0.842, val_accuracy=0.781]\n",
      "Epoch 39: 100% 160/160 [00:29<00:00,  5.39it/s, training_loss=0.011, train_accuracy=1, val_loss=0.84, val_accuracy=0.781]\n",
      "Epoch 40: 100% 160/160 [00:29<00:00,  5.39it/s, training_loss=0.00986, train_accuracy=1, val_loss=0.839, val_accuracy=0.781]\n",
      "Epoch 41: 100% 160/160 [00:29<00:00,  5.42it/s, training_loss=0.00967, train_accuracy=1, val_loss=0.84, val_accuracy=0.781]\n",
      "Epoch 42: 100% 160/160 [00:29<00:00,  5.43it/s, training_loss=0.00968, train_accuracy=1, val_loss=0.838, val_accuracy=0.781]\n",
      "Epoch 43: 100% 160/160 [00:29<00:00,  5.40it/s, training_loss=0.00965, train_accuracy=1, val_loss=0.839, val_accuracy=0.781]\n",
      "Epoch 44: 100% 160/160 [00:29<00:00,  5.42it/s, training_loss=0.00964, train_accuracy=1, val_loss=0.838, val_accuracy=0.781]\n",
      "Epoch 45: 100% 160/160 [00:29<00:00,  5.40it/s, training_loss=0.00966, train_accuracy=1, val_loss=0.837, val_accuracy=0.782]\n",
      "Epoch 46: 100% 160/160 [00:29<00:00,  5.43it/s, training_loss=0.00958, train_accuracy=1, val_loss=0.839, val_accuracy=0.782]\n",
      "Epoch 47: 100% 160/160 [00:29<00:00,  5.43it/s, training_loss=0.00971, train_accuracy=1, val_loss=0.837, val_accuracy=0.781]\n",
      "Epoch 48: 100% 160/160 [00:29<00:00,  5.42it/s, training_loss=0.00964, train_accuracy=1, val_loss=0.838, val_accuracy=0.782]\n",
      "Epoch 49: 100% 160/160 [00:29<00:00,  5.39it/s, training_loss=0.00966, train_accuracy=1, val_loss=0.836, val_accuracy=0.783]\n"
     ]
    }
   ],
   "source": [
    "#training\n",
    "history = fit(model, trainloader, optimizer, loss_function, lr_scheduler, epochs=50, valid_loader = validloader, measure = ['accuracy'], verbose = 1)\n",
    "#history = fit(model, smallloader, optimizer, loss_function, lr_scheduler, epochs=40, measure = ['accuracy'])"
   ]
  },
  {
   "cell_type": "code",
   "execution_count": 7,
   "metadata": {},
   "outputs": [],
   "source": [
    "#testing\n",
    "test_predict = predict(model, testloader)"
   ]
  },
  {
   "cell_type": "code",
   "execution_count": 8,
   "metadata": {},
   "outputs": [
    {
     "data": {
      "text/plain": [
       "0.7758"
      ]
     },
     "execution_count": 8,
     "metadata": {},
     "output_type": "execute_result"
    }
   ],
   "source": [
    "test_labels = np.concatenate([yb for _, yb in testloader])\n",
    "categorical_accuracy(np.argmax(test_predict, axis=1).flatten(), test_labels)"
   ]
  },
  {
   "cell_type": "code",
   "execution_count": 9,
   "metadata": {},
   "outputs": [
    {
     "data": {
      "image/png": "[encoded data removed]",
      "text/plain": [
       "<Figure size 864x288 with 2 Axes>"
      ]
     },
     "metadata": {
      "needs_background": "light"
     },
     "output_type": "display_data"
    }
   ],
   "source": [
    "#plot learning curve for loss and accuracy\n",
    "file_name = \"best_relu_model\"\n",
    "epochs = np.arange(50)\n",
    "fig, ax = plt.subplots(1, 2, figsize=(12, 4))\n",
    "fig.suptitle(\"Best relu Model\")\n",
    "ax[0].plot(epochs, history['training history'], linestyle='-', color='b', label='training')\n",
    "ax[0].plot(epochs, history['validation history'], linestyle='-', color='r', label='validation')\n",
    "ax[0].set_xlabel(\"epoch\")\n",
    "ax[0].set_ylabel(\"loss\")\n",
    "\n",
    "ax[1].plot(epochs, history['training accuracy'], linestyle='-', color='b', label='training')\n",
    "ax[1].plot(epochs, history['validation accuracy'], linestyle='-', color='r', label='validation')\n",
    "ax[1].set_xlabel(\"epoch\")\n",
    "ax[1].set_ylabel(\"accuracy\")\n",
    "\n",
    "ax[1].legend(loc='lower right')\n",
    "fig.savefig(file_name+\".png\", format='png', bbox_inches = 'tight', pad_inches=0.05)"
   ]
  },
  {
   "cell_type": "code",
   "execution_count": null,
   "metadata": {},
   "outputs": [],
   "source": []
  },
  {
   "cell_type": "code",
   "execution_count": null,
   "metadata": {},
   "outputs": [],
   "source": []
  },
  {
   "cell_type": "code",
   "execution_count": null,
   "metadata": {},
   "outputs": [],
   "source": []
  },
  {
   "cell_type": "code",
   "execution_count": null,
   "metadata": {},
   "outputs": [],
   "source": []
  }
 ],
 "metadata": {
  "kernelspec": {
   "display_name": "Python 3",
   "language": "python",
   "name": "python3"
  },
  "language_info": {
   "codemirror_mode": {
    "name": "ipython",
    "version": 3
   },
   "file_extension": ".py",
   "mimetype": "text/x-python",
   "name": "python",
   "nbconvert_exporter": "python",
   "pygments_lexer": "ipython3",
   "version": "3.7.6"
  }
 },
 "nbformat": 4,
 "nbformat_minor": 4
}
