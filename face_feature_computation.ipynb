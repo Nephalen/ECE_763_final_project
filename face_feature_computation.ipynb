{
 "cells": [
  {
   "cell_type": "markdown",
   "metadata": {},
   "source": [
    "# ECE 763 Project 3 convert face data into csv file"
   ]
  },
  {
   "cell_type": "code",
   "execution_count": 5,
   "metadata": {},
   "outputs": [],
   "source": [
    "import numpy as np\n",
    "import pandas as pd\n",
    "import cv2\n",
    "import glob\n",
    "import os"
   ]
  },
  {
   "cell_type": "code",
   "execution_count": 10,
   "metadata": {},
   "outputs": [],
   "source": [
    "#load reference data\n",
    "face_path = 'data/Data/Face16/'\n",
    "face_data = np.array([cv2.imread(filename) for filename in glob.glob(os.path.join(face_path, '*.bmp'))])\n",
    "\n",
    "nface_path = 'data/Data/Nonface16/'\n",
    "nface_data = np.array([cv2.imread(filename) for filename in glob.glob(os.path.join(nface_path, '*.bmp'))])\n",
    "\n",
    "face_data = face_data[:, :, :, 0]\n",
    "nface_data = nface_data[:, :, :, 0]        "
   ]
  },
  {
   "cell_type": "code",
   "execution_count": 13,
   "metadata": {},
   "outputs": [],
   "source": [
    "split = np.min([len(face_data), len(nface_data)]) // 10 * 7"
   ]
  },
  {
   "cell_type": "code",
   "execution_count": 14,
   "metadata": {},
   "outputs": [],
   "source": [
    "train_face = face_data[:split]\n",
    "train_nface = nface_data[:split]\n",
    "\n",
    "test_face = face_data[split:]\n",
    "test_nface = nface_data[split:]"
   ]
  },
  {
   "cell_type": "code",
   "execution_count": 15,
   "metadata": {},
   "outputs": [],
   "source": [
    "train_face = pd.DataFrame(train_face.reshape(-1, 16*16))\n",
    "train_nface = pd.DataFrame(train_nface.reshape(-1, 16*16))\n",
    "test_face = pd.DataFrame(test_face.reshape(-1, 16*16))\n",
    "test_nface = pd.DataFrame(test_nface.reshape(-1, 16*16))"
   ]
  },
  {
   "cell_type": "code",
   "execution_count": 16,
   "metadata": {},
   "outputs": [],
   "source": [
    "train_face.to_csv(\"data/face_data/train_face.csv\", header=False, index=False)\n",
    "train_nface.to_csv(\"data/face_data/train_nface.csv\", header=False, index=False)\n",
    "test_face.to_csv(\"data/face_data/test_face.csv\", header=False, index=False)\n",
    "test_nface.to_csv(\"data/face_data/test_nface.csv\", header=False, index=False)"
   ]
  },
  {
   "cell_type": "code",
   "execution_count": null,
   "metadata": {},
   "outputs": [],
   "source": []
  },
  {
   "cell_type": "code",
   "execution_count": null,
   "metadata": {},
   "outputs": [],
   "source": []
  },
  {
   "cell_type": "code",
   "execution_count": null,
   "metadata": {},
   "outputs": [],
   "source": []
  },
  {
   "cell_type": "code",
   "execution_count": null,
   "metadata": {},
   "outputs": [],
   "source": []
  },
  {
   "cell_type": "code",
   "execution_count": null,
   "metadata": {},
   "outputs": [],
   "source": []
  },
  {
   "cell_type": "code",
   "execution_count": null,
   "metadata": {},
   "outputs": [],
   "source": []
  }
 ],
 "metadata": {
  "kernelspec": {
   "display_name": "Python 3",
   "language": "python",
   "name": "python3"
  },
  "language_info": {
   "codemirror_mode": {
    "name": "ipython",
    "version": 3
   },
   "file_extension": ".py",
   "mimetype": "text/x-python",
   "name": "python",
   "nbconvert_exporter": "python",
   "pygments_lexer": "ipython3",
   "version": "3.7.6"
  }
 },
 "nbformat": 4,
 "nbformat_minor": 4
}
