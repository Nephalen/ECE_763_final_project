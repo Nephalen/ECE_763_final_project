{
 "cells": [
  {
   "cell_type": "markdown",
   "metadata": {},
   "source": [
    "# ECE 763 Project 2 Haar Feature"
   ]
  },
  {
   "cell_type": "code",
   "execution_count": 1,
   "metadata": {},
   "outputs": [],
   "source": [
    "import numpy as np\n",
    "import pandas as pd\n",
    "import cv2\n",
    "import matplotlib.pyplot as plt\n",
    "import dask.dataframe as dd\n",
    "\n",
    "from skimage.transform import integral_image\n",
    "from skimage.color import rgb2grey\n",
    "from skimage.feature import haar_like_feature\n",
    "from skimage.feature import haar_like_feature_coord\n",
    "from skimage.feature import draw_haar_like_feature\n",
    "\n",
    "from feature_utility import batch_haar_feature_compute, img_preprocess, store_large_data"
   ]
  },
  {
   "cell_type": "code",
   "execution_count": 2,
   "metadata": {},
   "outputs": [],
   "source": [
    "#load data\n",
    "face_data = pd.read_csv(\"Data/face_img_20.csv\", header=None)\n",
    "nface_data = pd.read_csv(\"Data/notface_img_20.csv\", header=None)\n",
    "\n",
    "face_data = np.array(face_data, dtype='uint8')\n",
    "nface_data = np.array(nface_data, dtype='uint8')\n",
    "face_label = np.ones(face_data.shape[0], dtype=int)\n",
    "nface_label = np.zeros(nface_data.shape[0], dtype=int)\n",
    "\n",
    "face_valid = np.sum(face_data, axis=1) > 0\n",
    "nface_valid = np.sum(nface_data, axis=1) > 0\n",
    "\n",
    "face_data = face_data[face_valid]\n",
    "nface_data = nface_data[nface_valid]"
   ]
  },
  {
   "cell_type": "code",
   "execution_count": 3,
   "metadata": {},
   "outputs": [],
   "source": [
    "split = np.min([len(face_data), len(nface_data)]) // 10 * 7"
   ]
  },
  {
   "cell_type": "markdown",
   "metadata": {},
   "source": [
    "### Feature computation"
   ]
  },
  {
   "cell_type": "code",
   "execution_count": 4,
   "metadata": {},
   "outputs": [],
   "source": [
    "face_data = img_preprocess(face_data, 20, 20, 3, src='rgb', cvt='gray')\n",
    "nface_data = img_preprocess(nface_data, 20, 20, 3, src='rgb', cvt='gray')"
   ]
  },
  {
   "cell_type": "code",
   "execution_count": 5,
   "metadata": {},
   "outputs": [],
   "source": [
    "train_face = face_data[:split]\n",
    "train_nface = nface_data[:split]\n",
    "\n",
    "test_face = face_data[split:]\n",
    "test_nface = nface_data[split:]"
   ]
  },
  {
   "cell_type": "code",
   "execution_count": 6,
   "metadata": {},
   "outputs": [],
   "source": [
    "store_large_data(batch_haar_feature_compute(train_face, return_coord=False), \"Data/face_train_haar.csv\", key='face_train')\n",
    "store_large_data(batch_haar_feature_compute(train_nface, return_coord=False), \"Data/nface_train_haar.csv\", key='nface_train')\n",
    "store_large_data(batch_haar_feature_compute(test_face, return_coord=False), \"Data/face_test_haar.csv\", key='face_test')\n",
    "store_large_data(batch_haar_feature_compute(test_nface, return_coord=False), \"Data/nface_test_haar.csv\", key='nface_test')"
   ]
  },
  {
   "cell_type": "code",
   "execution_count": null,
   "metadata": {},
   "outputs": [],
   "source": []
  },
  {
   "cell_type": "code",
   "execution_count": null,
   "metadata": {},
   "outputs": [],
   "source": []
  },
  {
   "cell_type": "code",
   "execution_count": null,
   "metadata": {},
   "outputs": [],
   "source": []
  },
  {
   "cell_type": "code",
   "execution_count": null,
   "metadata": {},
   "outputs": [],
   "source": []
  },
  {
   "cell_type": "code",
   "execution_count": null,
   "metadata": {},
   "outputs": [],
   "source": []
  },
  {
   "cell_type": "code",
   "execution_count": null,
   "metadata": {},
   "outputs": [],
   "source": []
  },
  {
   "cell_type": "code",
   "execution_count": null,
   "metadata": {},
   "outputs": [],
   "source": []
  }
 ],
 "metadata": {
  "kernelspec": {
   "display_name": "Python 3",
   "language": "python",
   "name": "python3"
  },
  "language_info": {
   "codemirror_mode": {
    "name": "ipython",
    "version": 3
   },
   "file_extension": ".py",
   "mimetype": "text/x-python",
   "name": "python",
   "nbconvert_exporter": "python",
   "pygments_lexer": "ipython3",
   "version": "3.7.3"
  }
 },
 "nbformat": 4,
 "nbformat_minor": 2
}
